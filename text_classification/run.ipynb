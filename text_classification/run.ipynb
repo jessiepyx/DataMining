{
 "cells": [
  {
   "cell_type": "markdown",
   "metadata": {},
   "source": [
    "# Text Classification\n",
    "*Complete and hand in this completed worksheet (including its outputs and any supporting code outside of the worksheet) with your assignment submission. Please check the pdf file for more details.*\n",
    "\n",
    "In this exercise you will:\n",
    "    \n",
    "- implement a of spam classifier with **Naive Bayes method** for real world email messages\n",
    "- learn the **training and testing phase** for Naive Bayes classifier  \n",
    "- get an idea of the **precision-recall** tradeoff"
   ]
  },
  {
   "cell_type": "code",
   "execution_count": 1,
   "metadata": {},
   "outputs": [],
   "source": [
    "# some basic imports\n",
    "import numpy as np\n",
    "import matplotlib.pyplot as plt\n",
    "import scipy.sparse\n",
    "%matplotlib inline\n",
    "\n",
    "%load_ext autoreload\n",
    "%autoreload 2"
   ]
  },
  {
   "cell_type": "code",
   "execution_count": 2,
   "metadata": {},
   "outputs": [
    {
     "name": "stderr",
     "output_type": "stream",
     "text": [
      "/usr/local/anaconda3/lib/python3.6/site-packages/ipykernel_launcher.py:19: SparseEfficiencyWarning: Changing the sparsity structure of a csr_matrix is expensive. lil_matrix is more efficient.\n",
      "/usr/local/anaconda3/lib/python3.6/site-packages/ipykernel_launcher.py:26: SparseEfficiencyWarning: Changing the sparsity structure of a csr_matrix is expensive. lil_matrix is more efficient.\n"
     ]
    }
   ],
   "source": [
    "# ham_train contains the occurrences of each word in ham emails. 1-by-N vector\n",
    "ham_train = np.loadtxt('ham_train.csv', delimiter=',')\n",
    "# spam_train contains the occurrences of each word in spam emails. 1-by-N vector\n",
    "spam_train = np.loadtxt('spam_train.csv', delimiter=',')\n",
    "# N is the size of vocabulary.\n",
    "N = ham_train.shape[0]\n",
    "# There 9034 ham emails and 3372 spam emails in the training samples\n",
    "num_ham_train = 9034\n",
    "num_spam_train = 3372\n",
    "# Do smoothing\n",
    "x = np.vstack([ham_train, spam_train]) + 1\n",
    "\n",
    "# ham_test contains the occurences of each word in each ham test email. P-by-N vector, with P is number of ham test emails.\n",
    "i,j,ham_test = np.loadtxt('ham_test.txt').T\n",
    "i = i.astype(np.int)\n",
    "j = j.astype(np.int)\n",
    "ham_test_tight = scipy.sparse.coo_matrix((ham_test, (i - 1, j - 1)))\n",
    "ham_test = scipy.sparse.csr_matrix((ham_test_tight.shape[0], ham_train.shape[0]))\n",
    "ham_test[:, 0:ham_test_tight.shape[1]] = ham_test_tight\n",
    "# spam_test contains the occurences of each word in each spam test email. Q-by-N vector, with Q is number of spam test emails.\n",
    "i,j,spam_test = np.loadtxt('spam_test.txt').T\n",
    "i = i.astype(np.int)\n",
    "j = j.astype(np.int)\n",
    "spam_test_tight = scipy.sparse.csr_matrix((spam_test, (i - 1, j - 1)))\n",
    "spam_test = scipy.sparse.csr_matrix((spam_test_tight.shape[0], spam_train.shape[0]))\n",
    "spam_test[:, 0:spam_test_tight.shape[1]] = spam_test_tight\n"
   ]
  },
  {
   "cell_type": "markdown",
   "metadata": {},
   "source": [
    "## Now let's implement a ham/spam email classifier. Please refer to the PDF file for details"
   ]
  },
  {
   "cell_type": "code",
   "execution_count": 3,
   "metadata": {},
   "outputs": [
    {
     "name": "stdout",
     "output_type": "stream",
     "text": [
      "top 10 SPAM words:\n",
      " 1  30033       nbsp   1325\n",
      " 2  75526     viagra   1250\n",
      " 3  38176      pills   1102\n",
      " 4  45153     cialis    848\n",
      " 5   9494       voip    838\n",
      " 6  65398        php    769\n",
      " 7  37568       meds    673\n",
      " 8  13613  computron    652\n",
      " 9  56930        sex    614\n",
      "10   9453     ooking    518\n",
      "10  19957      width    518\n",
      "TP =  1093   FP =  28\n",
      "FN =  31   TN =  2983\n",
      "accuracy: 0.9857\n",
      "precision = 0.9750\n",
      "recall = 0.9724\n"
     ]
    }
   ],
   "source": [
    "from likelihood import likelihood\n",
    "# TODO\n",
    "# Implement a ham/spam email classifier, and calculate the accuracy of your classifier\n",
    "\n",
    "# Hint: you can directly do matrix multiply between scipy.sparse.coo_matrix and numpy.array.\n",
    "# Specifically, you can use sparse_matrix * np_array to do this. Note that when you use \"*\" operator\n",
    "# between numpy array, this is typically an elementwise multiply.\n",
    "\n",
    "# begin answer\n",
    "\n",
    "# likelihood\n",
    "\n",
    "l = likelihood(x)\n",
    "\n",
    "##### top 10 SPAM words #####\n",
    "\n",
    "# find index\n",
    "\n",
    "ratio = l[0, :] / l[1, :] # reverse ratio\n",
    "ratio_sorted = np.sort(ratio) # find the 10 smallest\n",
    "ind = []\n",
    "for i in range(10):\n",
    "    ind.append([j for j, r in enumerate(ratio) if r == ratio_sorted[i]]) # there might be ties\n",
    "\n",
    "# look up words by index\n",
    "\n",
    "file = open('all_word_map.txt', 'r')\n",
    "lines = []\n",
    "for line in file.readlines():\n",
    "    lines.append(line.split())\n",
    "print('top 10 SPAM words:')\n",
    "for i in range(10):\n",
    "    for j in ind[i]:\n",
    "        print('%2d' % (i+1), '%6s' % lines[j][1], '%10s' % lines[j][0], '%6.f' % (1/ratio_sorted[i]))\n",
    "\n",
    "##### classify & test #####\n",
    "\n",
    "# log-likelihood: to avoid floating underflow\n",
    "\n",
    "# test set 1: labeled HAM\n",
    "# test set 2: labeled SPAM\n",
    "\n",
    "l_log = np.log(l)\n",
    "l_set1 = ham_test * l_log.T # P(wi=N|SPAM)=P(wi|SPAM)^N\n",
    "l_set2 = spam_test * l_log.T\n",
    "l_ham_set1 = l_set1[:, 0]\n",
    "l_ham_set2 = l_set2[:, 0]\n",
    "l_spam_set1 = l_set1[:, 1]\n",
    "l_spam_set2 = l_set2[:, 1]\n",
    "\n",
    "# prior\n",
    "\n",
    "num_total_train = num_ham_train + num_spam_train\n",
    "prior_ham = np.log(num_ham_train / num_total_train)\n",
    "prior_spam = np.log(num_spam_train / num_total_train)\n",
    "\n",
    "# posterior\n",
    "\n",
    "post_ham_set1 = l_ham_set1 + prior_ham\n",
    "post_ham_set2 = l_ham_set2 + prior_ham\n",
    "post_spam_set1 = l_spam_set1 + prior_spam\n",
    "post_spam_set2 = l_spam_set2 + prior_spam\n",
    "\n",
    "# confusion matrix\n",
    "\n",
    "TP = np.sum([1 for i in range(spam_test.shape[0]) if post_spam_set2[i] > post_ham_set2[i]]) # true for SPAM\n",
    "TN = np.sum([1 for i in range(ham_test.shape[0]) if post_ham_set1[i] > post_spam_set1[i]]) # true for HAM\n",
    "FN = spam_test.shape[0] - TP\n",
    "FP = ham_test.shape[0] - TN\n",
    "print('TP = ', TP, '  FP = ', FP)\n",
    "print('FN = ', FN, '  TN = ', TN)\n",
    "\n",
    "# accuracy & precision & recall\n",
    "\n",
    "print('accuracy: %.4f' % ((TP + TN) / (spam_test.shape[0] + ham_test.shape[0])))\n",
    "print('precision = %.4f' % (TP / (TP + FP)))\n",
    "print('recall = %.4f' % (TP / (TP + FN)))\n",
    "\n",
    "# end answer\n"
   ]
  }
 ],
 "metadata": {
  "kernelspec": {
   "display_name": "Python 3",
   "language": "python",
   "name": "python3"
  },
  "language_info": {
   "codemirror_mode": {
    "name": "ipython",
    "version": 3
   },
   "file_extension": ".py",
   "mimetype": "text/x-python",
   "name": "python",
   "nbconvert_exporter": "python",
   "pygments_lexer": "ipython3",
   "version": "3.6.8"
  }
 },
 "nbformat": 4,
 "nbformat_minor": 2
}
