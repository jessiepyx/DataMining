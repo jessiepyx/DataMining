{
 "cells": [
  {
   "cell_type": "markdown",
   "metadata": {},
   "source": [
    "# Bayes Decision Rule\n",
    "*Complete and hand in this completed worksheet (including its outputs and any supporting code outside of the worksheet) with your assignment submission. Please check the pdf file for more details.*\n",
    "\n",
    "In this exercise you will:\n",
    "    \n",
    "- implement the calculation of **likelihood** of each features given particular class \n",
    "- implement the calculation of **posterior** of each class given particular feature\n",
    "- implement the calculation of **minimal total risk** of bayes decision rule"
   ]
  },
  {
   "cell_type": "code",
   "execution_count": 1,
   "metadata": {},
   "outputs": [],
   "source": [
    "# some basic imports\n",
    "import scipy.io as sio\n",
    "import numpy as np\n",
    "import matplotlib.pyplot as plt\n",
    "\n",
    "%matplotlib inline\n",
    "\n",
    "%load_ext autoreload\n",
    "%autoreload 2"
   ]
  },
  {
   "cell_type": "code",
   "execution_count": 2,
   "metadata": {
    "scrolled": true
   },
   "outputs": [],
   "source": [
    "data = sio.loadmat('data.mat')\n",
    "x1_train, x1_test, x2_train, x2_test = data['x1_train'], data['x1_test'], data['x2_train'], data['x2_test']\n",
    "all_x = np.concatenate([x1_train, x1_test, x2_train, x2_test], 1)\n",
    "data_range = [np.min(all_x), np.max(all_x)]"
   ]
  },
  {
   "cell_type": "code",
   "execution_count": 3,
   "metadata": {},
   "outputs": [
    {
     "name": "stdout",
     "output_type": "stream",
     "text": [
      "(1, 400) (1, 100) (1, 800) (1, 200)\n",
      "(1, 1500)\n",
      "[-6, 12]\n"
     ]
    }
   ],
   "source": [
    "print(x1_train.shape, x1_test.shape, x2_train.shape, x2_test.shape)\n",
    "print(all_x.shape)\n",
    "print(data_range)"
   ]
  },
  {
   "cell_type": "code",
   "execution_count": 4,
   "metadata": {},
   "outputs": [],
   "source": [
    "from get_x_distribution import get_x_distribution\n",
    "\n",
    "train_x = get_x_distribution(x1_train, x2_train, data_range)\n",
    "test_x = get_x_distribution(x1_test, x2_test, data_range)"
   ]
  },
  {
   "cell_type": "code",
   "execution_count": 5,
   "metadata": {},
   "outputs": [
    {
     "name": "stdout",
     "output_type": "stream",
     "text": [
      "[[  0.   0.   0.   0.   0.   0.   0.   0.   0.   1.   8.  62. 133. 128.\n",
      "   61.   6.   1.   0.   0.]\n",
      " [  1.   3.   3.   9.  13.  45.  57.  71.  98.  98.  99. 104.  77.  54.\n",
      "   30.  17.  14.   4.   3.]]\n",
      "[[ 0.  0.  0.  0.  0.  0.  0.  0.  0.  0.  2. 12. 30. 43. 12.  1.  0.  0.\n",
      "   0.]\n",
      " [ 0.  0.  0.  3. 10.  7.  9. 25. 24. 30. 24. 29.  9. 10. 13.  3.  3.  1.\n",
      "   0.]]\n"
     ]
    }
   ],
   "source": [
    "print(train_x)\n",
    "print(test_x)"
   ]
  },
  {
   "cell_type": "markdown",
   "metadata": {},
   "source": [
    "## Part 1 likelihood\n",
    "Your code for this section will be written inside **bayes_decision_rule/likehood.py**. "
   ]
  },
  {
   "cell_type": "code",
   "execution_count": 6,
   "metadata": {},
   "outputs": [
    {
     "data": {
      "image/png": "[encoded data removed]",
      "text/plain": [
       "<Figure size 432x288 with 1 Axes>"
      ]
     },
     "metadata": {
      "needs_background": "light"
     },
     "output_type": "display_data"
    }
   ],
   "source": [
    "from likelihood import likelihood\n",
    "\n",
    "l = likelihood(train_x)\n",
    "width = 0.35\n",
    "p1 = plt.bar(np.arange(data_range[0], data_range[1] + 1), l.T[:,0], width)\n",
    "p2 = plt.bar(np.arange(data_range[0], data_range[1] + 1) + width, l.T[:,1], width)\n",
    "plt.xlabel('x')\n",
    "plt.ylabel('$P(x|\\omega)$')\n",
    "plt.legend((p1[0], p2[0]), ('$\\omega_1$', '$\\omega_2$'))\n",
    "plt.axis([data_range[0] - 1, data_range[1] + 1, 0, 0.5])\n",
    "plt.show()"
   ]
  },
  {
   "cell_type": "code",
   "execution_count": 7,
   "metadata": {},
   "outputs": [
    {
     "name": "stdout",
     "output_type": "stream",
     "text": [
      "[True, True, True, True, True, True, True, True, True, True, True, False, False, False, False, True, True, True, True]\n",
      "[0. 0. 0. 0. 0. 0. 0. 0. 0. 0. 2. 0. 0. 0. 0. 1. 0. 0. 0.]\n",
      "[ 0.  0.  0.  0.  0.  0.  0.  0.  0.  0.  0. 29.  9. 10. 13.  0.  0.  0.\n",
      "  0.]\n",
      "number of misclassified x: 64\n",
      "test error: 0.2133\n"
     ]
    }
   ],
   "source": [
    "#TODO\n",
    "#compute the number of all the misclassified x using maximum likelihood decision rule\n",
    "\n",
    "# begin answer\n",
    "mask = [i[0]<i[1] for i in l.T]\n",
    "misclassified_1 = test_x[0] * mask\n",
    "misclassified_2 = test_x[1] * [~i for i in mask]\n",
    "count_mis = sum(misclassified_1) + sum(misclassified_2)\n",
    "test_error = count_mis / (x1_test.shape[1] + x2_test.shape[1])\n",
    "\n",
    "print(mask)\n",
    "print(misclassified_1)\n",
    "print(misclassified_2)\n",
    "print('number of misclassified x: %d' % count_mis)\n",
    "print('test error: %.4f' % test_error)\n",
    "# end answer\n"
   ]
  },
  {
   "cell_type": "markdown",
   "metadata": {},
   "source": [
    "## Part 2 posterior\n",
    "Your code for this section will be written inside **bayes_decision_rule/posterior.py**. "
   ]
  },
  {
   "cell_type": "code",
   "execution_count": 8,
   "metadata": {},
   "outputs": [
    {
     "data": {
      "image/png": "[encoded data removed]",
      "text/plain": [
       "<Figure size 432x288 with 1 Axes>"
      ]
     },
     "metadata": {
      "needs_background": "light"
     },
     "output_type": "display_data"
    }
   ],
   "source": [
    "from posterior import posterior\n",
    "\n",
    "p = posterior(train_x)\n",
    "width = 0.35\n",
    "p1 = plt.bar(np.arange(data_range[0], data_range[1] + 1), p.T[:,0], width)\n",
    "p2 = plt.bar(np.arange(data_range[0], data_range[1] + 1) + width, p.T[:,1], width)\n",
    "plt.xlabel('x')\n",
    "plt.ylabel('$P(\\omega|x)$')\n",
    "plt.legend((p1[0], p2[0]), ('$\\omega_1$', '$\\omega_2$'))\n",
    "plt.axis([data_range[0] - 1, data_range[1] + 1, 0, 1.2])\n",
    "plt.show()"
   ]
  },
  {
   "cell_type": "code",
   "execution_count": 9,
   "metadata": {},
   "outputs": [
    {
     "name": "stdout",
     "output_type": "stream",
     "text": [
      "[True, True, True, True, True, True, True, True, True, True, True, True, False, False, False, True, True, True, True]\n",
      "[ 0.  0.  0.  0.  0.  0.  0.  0.  0.  0.  2. 12.  0.  0.  0.  1.  0.  0.\n",
      "  0.]\n",
      "[ 0.  0.  0.  0.  0.  0.  0.  0.  0.  0.  0.  0.  9. 10. 13.  0.  0.  0.\n",
      "  0.]\n",
      "number of misclassified x: 47\n",
      "test error: 0.1567\n"
     ]
    }
   ],
   "source": [
    "#TODO\n",
    "#compute the number of all the misclassified x using optimal bayes decision rule\n",
    "\n",
    "# begin answer\n",
    "mask = [i[0]<i[1] for i in p.T]\n",
    "misclassified_1 = test_x[0] * mask\n",
    "misclassified_2 = test_x[1] * [~i for i in mask]\n",
    "count_mis = sum(misclassified_1) + sum(misclassified_2)\n",
    "test_error = count_mis / (x1_test.shape[1] + x2_test.shape[1])\n",
    "\n",
    "print(mask)\n",
    "print(misclassified_1)\n",
    "print(misclassified_2)\n",
    "print('number of misclassified x: %d' % count_mis)\n",
    "print('test error: %.4f' % test_error)\n",
    "# end answer\n"
   ]
  },
  {
   "cell_type": "markdown",
   "metadata": {},
   "source": [
    "## Part 3 risk\n"
   ]
  },
  {
   "cell_type": "code",
   "execution_count": 10,
   "metadata": {},
   "outputs": [
    {
     "name": "stdout",
     "output_type": "stream",
     "text": [
      "minimal total risk: 0.2427\n"
     ]
    }
   ],
   "source": [
    "risk = np.array([[0, 1], [2, 0]])\n",
    "#TODO\n",
    "#get the minimal risk using optimal bayes decision rule and risk weights\n",
    "\n",
    "# begin answer\n",
    "x1_all = np.concatenate([x1_train, x1_test], 1)\n",
    "x2_all = np.concatenate([x2_train, x2_test], 1)\n",
    "x_all = get_x_distribution(x1_all, x2_all, data_range)\n",
    "\n",
    "prior_all = np.sum(x_all, axis=0) / np.sum(x_all)\n",
    "post_all = posterior(x_all)\n",
    "\n",
    "risk1 = np.sum(np.transpose([risk[0]]) * post_all, axis=0)\n",
    "risk2 = np.sum(np.transpose([risk[1]]) * post_all, axis=0)\n",
    "minimal_total_risk = np.sum(np.min([risk1, risk2], axis=0) * prior_all)\n",
    "\n",
    "print('minimal total risk: %.4f' % minimal_total_risk)\n",
    "# end answer"
   ]
  },
  {
   "cell_type": "code",
   "execution_count": 11,
   "metadata": {},
   "outputs": [
    {
     "data": {
      "image/png": "[encoded data removed]",
      "text/plain": [
       "<Figure size 432x288 with 1 Axes>"
      ]
     },
     "metadata": {
      "needs_background": "light"
     },
     "output_type": "display_data"
    }
   ],
   "source": [
    "width = 0.35\n",
    "p1 = plt.bar(np.arange(data_range[0], data_range[1] + 1), risk1, width)\n",
    "p2 = plt.bar(np.arange(data_range[0], data_range[1] + 1) + width, risk2, width)\n",
    "plt.xlabel('x')\n",
    "plt.ylabel('$R(\\\\alpha|x)$')\n",
    "plt.legend((p1[0], p2[0]), ('$\\\\alpha_1$', '$\\\\alpha_2$'))\n",
    "plt.axis([data_range[0] - 1, data_range[1] + 1, 0, 2.0])\n",
    "plt.show()"
   ]
  }
 ],
 "metadata": {
  "kernelspec": {
   "display_name": "Python 3",
   "language": "python",
   "name": "python3"
  },
  "language_info": {
   "codemirror_mode": {
    "name": "ipython",
    "version": 3
   },
   "file_extension": ".py",
   "mimetype": "text/x-python",
   "name": "python",
   "nbconvert_exporter": "python",
   "pygments_lexer": "ipython3",
   "version": "3.6.8"
  }
 },
 "nbformat": 4,
 "nbformat_minor": 2
}
